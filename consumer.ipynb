{
 "cells": [
  {
   "cell_type": "code",
   "execution_count": 63,
   "metadata": {},
   "outputs": [],
   "source": [
    "import glob\n",
    "import os.path, time\n",
    "import datetime\n",
    "from kafka import KafkaConsumer,TopicPartition\n",
    "import cv2"
   ]
  },
  {
   "cell_type": "code",
   "execution_count": 64,
   "metadata": {},
   "outputs": [],
   "source": [
    "consumer = KafkaConsumer(\n",
    "    'messages',\n",
    "    bootstrap_servers=['localhost:9092'],\n",
    "    auto_offset_reset='latest'\n",
    ")"
   ]
  },
  {
   "cell_type": "code",
   "execution_count": null,
   "metadata": {},
   "outputs": [
    {
     "name": "stdout",
     "output_type": "stream",
     "text": [
      "Received image input_image_dir/baboon.jpg\n",
      "successfully converted input_image_dir/baboon.jpg to grayscale\n",
      "Received image input_image_dir/squirrel_cls.jpg\n",
      "successfully converted input_image_dir/squirrel_cls.jpg to grayscale\n",
      "Received image input_image_dir/starry_night.jpg\n",
      "successfully converted input_image_dir/starry_night.jpg to grayscale\n",
      "Received image input_image_dir/HappyFish.jpg\n",
      "successfully converted input_image_dir/HappyFish.jpg to grayscale\n",
      "Received image input_image_dir/mask.png\n",
      "successfully converted input_image_dir/mask.png to grayscale\n"
     ]
    }
   ],
   "source": [
    "for message in consumer:\n",
    "    image_path = message.value.decode('UTF-8')\n",
    "    print(\"Received image {}\".format(image_path))\n",
    "    img = cv2.imread(image_path)\n",
    "    if img is None:\n",
    "        print(\"image read failed\")\n",
    "        continue\n",
    "    grayImage = cv2.cvtColor(img, cv2.COLOR_BGR2GRAY)\n",
    "    if not cv2.imwrite('output_image_dir/{}'.format(image_path.split(\"/\")[1]), grayImage):\n",
    "        print(\"Image write failed\")\n",
    "    print(\"successfully converted {} to grayscale\".format(image_path))"
   ]
  },
  {
   "cell_type": "code",
   "execution_count": null,
   "metadata": {},
   "outputs": [],
   "source": []
  }
 ],
 "metadata": {
  "kernelspec": {
   "display_name": "Python 3",
   "language": "python",
   "name": "python3"
  },
  "language_info": {
   "codemirror_mode": {
    "name": "ipython",
    "version": 3
   },
   "file_extension": ".py",
   "mimetype": "text/x-python",
   "name": "python",
   "nbconvert_exporter": "python",
   "pygments_lexer": "ipython3",
   "version": "3.8.5"
  }
 },
 "nbformat": 4,
 "nbformat_minor": 4
}
