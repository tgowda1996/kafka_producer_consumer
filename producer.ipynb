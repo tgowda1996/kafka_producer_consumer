{
 "cells": [
  {
   "cell_type": "code",
   "execution_count": 68,
   "metadata": {},
   "outputs": [],
   "source": [
    "import glob\n",
    "import os.path, time\n",
    "import datetime\n",
    "from kafka import KafkaProducer"
   ]
  },
  {
   "cell_type": "code",
   "execution_count": 69,
   "metadata": {},
   "outputs": [],
   "source": [
    "types = ['.jpg', '.png']\n",
    "files = []\n",
    "files_processed = {}"
   ]
  },
  {
   "cell_type": "code",
   "execution_count": 70,
   "metadata": {},
   "outputs": [],
   "source": [
    "producer = KafkaProducer(\n",
    "    bootstrap_servers=['localhost:9092']\n",
    ")"
   ]
  },
  {
   "cell_type": "code",
   "execution_count": null,
   "metadata": {},
   "outputs": [
    {
     "name": "stdout",
     "output_type": "stream",
     "text": [
      "Sending file input_image_dir/baboon.jpg for processing\n",
      "Sending file input_image_dir/squirrel_cls.jpg for processing\n",
      "Sending file input_image_dir/starry_night.jpg for processing\n",
      "Sending file input_image_dir/HappyFish.jpg for processing\n",
      "Sending file input_image_dir/mask.png for processing\n"
     ]
    }
   ],
   "source": [
    "while(1):\n",
    "    for t in types:\n",
    "        files.extend(glob.glob('input_image_dir/*{}'.format(t), recursive=True))\n",
    "\n",
    "\n",
    "\n",
    "    for file in files:\n",
    "        data_time_str = time.ctime(os.path.getmtime(file))\n",
    "        date_obj = datetime.datetime.strptime(data_time_str, \"%a %b %d %H:%M:%S %Y\")\n",
    "        if file not in files_processed or files_processed[file] != date_obj:\n",
    "            # send message to client\n",
    "            producer.send('messages', file.encode('UTF-8'))\n",
    "            print(\"Sending file {} for processing\".format(file))\n",
    "            files_processed[file] = date_obj\n",
    "    \n",
    "    time.sleep(1)"
   ]
  },
  {
   "cell_type": "code",
   "execution_count": null,
   "metadata": {},
   "outputs": [],
   "source": []
  }
 ],
 "metadata": {
  "kernelspec": {
   "display_name": "Python 3",
   "language": "python",
   "name": "python3"
  },
  "language_info": {
   "codemirror_mode": {
    "name": "ipython",
    "version": 3
   },
   "file_extension": ".py",
   "mimetype": "text/x-python",
   "name": "python",
   "nbconvert_exporter": "python",
   "pygments_lexer": "ipython3",
   "version": "3.8.5"
  }
 },
 "nbformat": 4,
 "nbformat_minor": 4
}
